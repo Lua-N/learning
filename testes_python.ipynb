{
  "nbformat": 4,
  "nbformat_minor": 0,
  "metadata": {
    "colab": {
      "name": "testes_python.ipynb",
      "provenance": [],
      "authorship_tag": "ABX9TyNXv9yVZDSnqxhP7DL4/dHH",
      "include_colab_link": true
    },
    "kernelspec": {
      "name": "python3",
      "display_name": "Python 3"
    },
    "language_info": {
      "name": "python"
    }
  },
  "cells": [
    {
      "cell_type": "markdown",
      "metadata": {
        "id": "view-in-github",
        "colab_type": "text"
      },
      "source": [
        "<a href=\"https://colab.research.google.com/github/Lua-N/learning/blob/main/testes_python.ipynb\" target=\"_parent\"><img src=\"https://colab.research.google.com/assets/colab-badge.svg\" alt=\"Open In Colab\"/></a>"
      ]
    },
    {
      "cell_type": "code",
      "execution_count": 26,
      "metadata": {
        "colab": {
          "base_uri": "https://localhost:8080/"
        },
        "id": "5i5ii4zZfwan",
        "outputId": "9157cddd-5159-476f-c0ad-b29581caf84e"
      },
      "outputs": [
        {
          "output_type": "stream",
          "name": "stdout",
          "text": [
            "Digite um número para mostrar a tabuada:5\n",
            "5\n",
            "10\n",
            "15\n",
            "20\n",
            "25\n",
            "30\n",
            "35\n",
            "40\n",
            "45\n",
            "50\n"
          ]
        }
      ],
      "source": [
        "# programa para gerar tabuada de qualquer número inteiro\n",
        "\n",
        "numero = int(input(\"Digite um número para mostrar a tabuada:\"))\n",
        "for x in range(1,11,1):\n",
        "  print(x * numero)"
      ]
    },
    {
      "cell_type": "code",
      "source": [
        "# converte minúscula para maiúscula e embaralha as letras\n",
        "\n",
        "def converter_maiuscula(texto, flag_maiuscula):\n",
        "  if flag_maiuscula:\n",
        "    return texto.upper()\n",
        "  else:\n",
        "    return texto.lower()\n",
        "nome = input('Digite algo: ')    \n",
        "\n",
        "from random import sample\n",
        "a = sample(nome,len(nome))\n",
        "d = ''. join(a)\n",
        "texto = converter_maiuscula(flag_maiuscula=True, texto=d)\n",
        "print(texto)"
      ],
      "metadata": {
        "colab": {
          "base_uri": "https://localhost:8080/"
        },
        "id": "muG3-x1DgBiR",
        "outputId": "43006bb4-203a-4013-d797-0f34efaabb41"
      },
      "execution_count": 35,
      "outputs": [
        {
          "output_type": "stream",
          "name": "stdout",
          "text": [
            "Digite algo: luana\n",
            "LAAUN\n"
          ]
        }
      ]
    },
    {
      "cell_type": "code",
      "source": [
        ""
      ],
      "metadata": {
        "id": "s6c0G6ADp9ep"
      },
      "execution_count": null,
      "outputs": []
    },
    {
      "cell_type": "code",
      "source": [
        ""
      ],
      "metadata": {
        "id": "Pi1QWh2CpyXa"
      },
      "execution_count": null,
      "outputs": []
    },
    {
      "cell_type": "code",
      "source": [
        ""
      ],
      "metadata": {
        "id": "mnA5xvjtnCBK"
      },
      "execution_count": null,
      "outputs": []
    },
    {
      "cell_type": "code",
      "source": [
        ""
      ],
      "metadata": {
        "id": "HbEhxbXsmv16"
      },
      "execution_count": null,
      "outputs": []
    },
    {
      "cell_type": "code",
      "source": [
        ""
      ],
      "metadata": {
        "id": "MMy45BIhmOfT"
      },
      "execution_count": null,
      "outputs": []
    },
    {
      "cell_type": "code",
      "source": [
        ""
      ],
      "metadata": {
        "id": "Wv4zoNZBlsjJ"
      },
      "execution_count": null,
      "outputs": []
    },
    {
      "cell_type": "code",
      "source": [
        ""
      ],
      "metadata": {
        "id": "aveiW44bldqi"
      },
      "execution_count": null,
      "outputs": []
    },
    {
      "cell_type": "code",
      "source": [
        ""
      ],
      "metadata": {
        "id": "pWAo1ttclT4T"
      },
      "execution_count": null,
      "outputs": []
    },
    {
      "cell_type": "code",
      "source": [
        ""
      ],
      "metadata": {
        "id": "jA2dvsAjk5X6"
      },
      "execution_count": null,
      "outputs": []
    },
    {
      "cell_type": "code",
      "source": [
        ""
      ],
      "metadata": {
        "id": "d7GTCXVik1jh"
      },
      "execution_count": null,
      "outputs": []
    },
    {
      "cell_type": "code",
      "source": [
        ""
      ],
      "metadata": {
        "id": "uW2ufXF4j_Ty"
      },
      "execution_count": null,
      "outputs": []
    },
    {
      "cell_type": "code",
      "source": [
        "# converte minúscula para maiúscula e embaralha as letras\n",
        "\n",
        "def converter_maiuscula(texto, flag_maiuscula):\n",
        "  nome = input('Digite algo: ')    \n",
        "\n",
        "  for a in nome:\n",
        "    if (a.isupper()) == True:\n",
        "      \n",
        "  from random import sample\n",
        "  a = sample(nome,len(nome))\n",
        "  d = ''. join(a)\n",
        "  texto = converter_maiuscula(flag_maiuscula=True, texto=d)\n",
        "\n",
        "  print(texto)"
      ],
      "metadata": {
        "id": "rjmLeElugKTE"
      },
      "execution_count": 3,
      "outputs": []
    },
    {
      "cell_type": "code",
      "source": [
        ""
      ],
      "metadata": {
        "id": "bkgBPj4Fi1Tx"
      },
      "execution_count": null,
      "outputs": []
    }
  ]
}